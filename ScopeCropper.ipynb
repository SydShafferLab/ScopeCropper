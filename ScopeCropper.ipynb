{
 "cells": [
  {
   "cell_type": "code",
   "execution_count": null,
   "metadata": {},
   "outputs": [],
   "source": [
    "# INITATE GUI\n",
    "\n",
    "import matplotlib\n",
    "matplotlib.use(\"Qt5Agg\")\n",
    "%matplotlib qt"
   ]
  },
  {
   "cell_type": "code",
   "execution_count": null,
   "metadata": {},
   "outputs": [],
   "source": [
    "# CHECK BINARY THRESHOLDS\n",
    "\n",
    "from convert2Binary import checkBinary\n",
    "\n",
    "raw = \"\"\n",
    "channel = 1\n",
    "adjustment = (0,255,0,7,1) # (low_in,high_in,low_out,high_out,gamma)\n",
    "performance = \"normal\" # fast, normal, fancy\n",
    "binaryMode = \"std\" # otsu, std, or manual\n",
    "minArea = 25\n",
    "stdThresh = 8 # std only\n",
    "threshold = 4000 # manual only\n",
    "\n",
    "checkBinary(raw,channel,adjustment,performance,binaryMode,minArea,stdThresh=stdThresh,threshold=threshold)"
   ]
  },
  {
   "cell_type": "code",
   "execution_count": null,
   "metadata": {},
   "outputs": [],
   "source": [
    "# SET DIRECTORIES\n",
    "\n",
    "rawDir = \"\"\n",
    "outDir = \"\""
   ]
  },
  {
   "cell_type": "code",
   "execution_count": null,
   "metadata": {},
   "outputs": [],
   "source": [
    "# CONVERT TO BINARY\n",
    "\n",
    "from convert2Binary import convert2Binary\n",
    "\n",
    "channel = 1\n",
    "binaryMode = \"std\" # otsu, std, or manual\n",
    "minArea = 25\n",
    "stdThresh = 8 # std only\n",
    "threshold = 4000 # manual only\n",
    "\n",
    "convert2Binary(rawDir,outDir,channel,binaryMode,minArea,stdThresh=stdThresh,threshold=threshold)"
   ]
  },
  {
   "cell_type": "code",
   "execution_count": null,
   "metadata": {},
   "outputs": [],
   "source": [
    "# CROP IMAGES\n",
    "\n",
    "from cropColonies import cropRaw\n",
    "\n",
    "image = 1\n",
    "channel = 1\n",
    "\n",
    "cropRaw(rawDir,outDir,image,channel)"
   ]
  },
  {
   "cell_type": "code",
   "execution_count": null,
   "metadata": {
    "scrolled": true
   },
   "outputs": [],
   "source": [
    "# RUN INITIAL SEGMENTATION\n",
    "\n",
    "from segmentation import checkSegmentation\n",
    "\n",
    "image = 1\n",
    "crop = 1\n",
    "channel = 1\n",
    "adjustment = (0,255,0,7,1)\n",
    "modelType = \"nuclei\"\n",
    "diameter = None\n",
    "\n",
    "segmentation = checkSegmentation(outDir,image,crop,channel,adjustment,modelType,diameter)"
   ]
  },
  {
   "cell_type": "code",
   "execution_count": null,
   "metadata": {
    "scrolled": true
   },
   "outputs": [],
   "source": [
    "# TWEAK SEGMENTATION THRESHOLDS\n",
    "\n",
    "from segmentation import tweakThresh\n",
    "\n",
    "cellprob_threshold = -2.0\n",
    "flow_threshold = 2.0\n",
    "\n",
    "tweakThresh(segmentation,cellprob_threshold,flow_threshold)"
   ]
  },
  {
   "cell_type": "code",
   "execution_count": null,
   "metadata": {
    "tags": []
   },
   "outputs": [],
   "source": [
    "# RUN SEGMENTATION\n",
    "\n",
    "from segmentation import runSegmentation\n",
    "\n",
    "image = 1\n",
    "channel = 1\n",
    "modelType = \"nuclei\"\n",
    "diameter = None\n",
    "cellprob_threshold = -2.0\n",
    "flow_threshold = 2.0\n",
    "\n",
    "segmentation = runSegmentation(outDir,image,channel,modelType,diameter,cellprob_threshold,flow_threshold)"
   ]
  },
  {
   "cell_type": "code",
   "execution_count": null,
   "metadata": {},
   "outputs": [],
   "source": [
    "# SEE SEGMENTATION\n",
    "\n",
    "from segmentation import seeSegmentation\n",
    "\n",
    "image = 1\n",
    "crop = 1\n",
    "channel = 1\n",
    "adjustment = (0,255,0,7,1)\n",
    "\n",
    "seeSegmentation(outDir,image,crop,channel,adjustment)"
   ]
  }
 ],
 "metadata": {
  "interpreter": {
   "hash": "26e65cf21750a2e0088e036087c9fa977c0fdc574ee273ea4f0caa566a3c57f2"
  },
  "kernelspec": {
   "name": "python3",
   "display_name": "Python 3.9.5 64-bit ('cellpose': conda)"
  },
  "language_info": {
   "codemirror_mode": {
    "name": "ipython",
    "version": 3
   },
   "file_extension": ".py",
   "mimetype": "text/x-python",
   "name": "python",
   "nbconvert_exporter": "python",
   "pygments_lexer": "ipython3",
   "version": "3.9.5"
  }
 },
 "nbformat": 4,
 "nbformat_minor": 2
}